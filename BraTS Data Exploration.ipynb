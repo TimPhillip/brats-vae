{
 "cells": [
  {
   "cell_type": "code",
   "id": "initial_id",
   "metadata": {
    "collapsed": true,
    "ExecuteTime": {
     "end_time": "2024-12-02T10:48:31.235988Z",
     "start_time": "2024-12-02T10:48:31.233033Z"
    }
   },
   "source": [
    "import numpy as np\n",
    "from matplotlib import pyplot as plt\n",
    "import nibabel as nib\n",
    "import os"
   ],
   "outputs": [],
   "execution_count": 4
  },
  {
   "metadata": {
    "ExecuteTime": {
     "end_time": "2024-12-02T10:48:31.646368Z",
     "start_time": "2024-12-02T10:48:31.644199Z"
    }
   },
   "cell_type": "code",
   "source": "data_path= \"/Users/tim/Documents/GTD/04 - Tumor Growth/BraTS/data\"",
   "id": "99bc8b3a30bf8be5",
   "outputs": [],
   "execution_count": 5
  },
  {
   "metadata": {
    "ExecuteTime": {
     "end_time": "2024-12-02T10:48:49.072866Z",
     "start_time": "2024-12-02T10:48:49.068575Z"
    }
   },
   "cell_type": "code",
   "source": "tumors = list(os.listdir(data_path))",
   "id": "650126b28ce7d961",
   "outputs": [],
   "execution_count": 7
  },
  {
   "metadata": {
    "ExecuteTime": {
     "end_time": "2024-12-02T13:12:38.052145Z",
     "start_time": "2024-12-02T13:12:38.045916Z"
    }
   },
   "cell_type": "code",
   "source": [
    "idx = 42\n",
    "timg_path = os.path.join(data_path, tumors[idx], f\"{ tumors[idx] }_flair.nii.gz\")\n",
    "timg_path = os.path.join(data_path, tumors[idx], f\"{ tumors[idx] }_seg.nii.gz\")\n",
    "timg = nib.load(timg_path)\n",
    "timg"
   ],
   "id": "bd12a6d3a8df5ca2",
   "outputs": [
    {
     "data": {
      "text/plain": [
       "<nibabel.nifti1.Nifti1Image at 0x1307bead0>"
      ]
     },
     "execution_count": 38,
     "metadata": {},
     "output_type": "execute_result"
    }
   ],
   "execution_count": 38
  },
  {
   "metadata": {
    "ExecuteTime": {
     "end_time": "2024-12-02T13:12:38.986787Z",
     "start_time": "2024-12-02T13:12:38.982374Z"
    }
   },
   "cell_type": "code",
   "source": "timg.shape",
   "id": "9ccd108a68674d4d",
   "outputs": [
    {
     "data": {
      "text/plain": [
       "(240, 240, 155)"
      ]
     },
     "execution_count": 39,
     "metadata": {},
     "output_type": "execute_result"
    }
   ],
   "execution_count": 39
  },
  {
   "metadata": {
    "ExecuteTime": {
     "end_time": "2024-12-02T13:12:40.071178Z",
     "start_time": "2024-12-02T13:12:39.985484Z"
    }
   },
   "cell_type": "code",
   "source": "plt.imshow(timg.get_fdata()[:, :, 110], cmap=\"Greys_r\")",
   "id": "9e4a73fefb19a4c4",
   "outputs": [
    {
     "data": {
      "text/plain": [
       "<matplotlib.image.AxesImage at 0x1307dcc10>"
      ]
     },
     "execution_count": 40,
     "metadata": {},
     "output_type": "execute_result"
    },
    {
     "data": {
      "text/plain": [
       "<Figure size 640x480 with 1 Axes>"
      ],
      "image/png": "[encoded data removed]"
     },
     "metadata": {},
     "output_type": "display_data"
    }
   ],
   "execution_count": 40
  },
  {
   "metadata": {},
   "cell_type": "code",
   "outputs": [],
   "execution_count": null,
   "source": "",
   "id": "1701985901cf91a8"
  }
 ],
 "metadata": {
  "kernelspec": {
   "display_name": "Python 3",
   "language": "python",
   "name": "python3"
  },
  "language_info": {
   "codemirror_mode": {
    "name": "ipython",
    "version": 2
   },
   "file_extension": ".py",
   "mimetype": "text/x-python",
   "name": "python",
   "nbconvert_exporter": "python",
   "pygments_lexer": "ipython2",
   "version": "2.7.6"
  }
 },
 "nbformat": 4,
 "nbformat_minor": 5
}
